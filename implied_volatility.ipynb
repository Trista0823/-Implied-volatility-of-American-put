{
 "cells": [
  {
   "cell_type": "code",
   "execution_count": 1,
   "metadata": {},
   "outputs": [],
   "source": [
    "import math\n",
    "import numpy as np\n",
    "import matplotlib.pyplot as plt\n",
    "import pandas as pd\n",
    "from scipy.stats import norm"
   ]
  },
  {
   "cell_type": "markdown",
   "metadata": {
    "heading_collapsed": true
   },
   "source": [
    "## implied volatility for European put option"
   ]
  },
  {
   "cell_type": "code",
   "execution_count": 8,
   "metadata": {
    "hidden": true
   },
   "outputs": [],
   "source": [
    "def EuropeanPut(sigma,S=10,T=1,r=0.02,K=9):\n",
    "    d1 = (math.log(S/K)+(r+0.5*sigma**2)*T)/(sigma*math.sqrt(T))\n",
    "    d2 = d1-sigma*math.sqrt(T)\n",
    "    p = K*math.exp(-r*T)*norm.cdf(-d2)-S*norm.cdf(-d1)\n",
    "    return p"
   ]
  },
  {
   "cell_type": "code",
   "execution_count": 9,
   "metadata": {
    "hidden": true
   },
   "outputs": [],
   "source": [
    "def vega(sigma,S=10,T=1,r=0.02,K=9):\n",
    "    d1 = (math.log(S/K)+(r+0.5*sigma**2)*T)/(sigma*math.sqrt(T))\n",
    "    vega = S*math.sqrt(T)*norm.pdf(d1)\n",
    "    return vega"
   ]
  },
  {
   "cell_type": "code",
   "execution_count": 10,
   "metadata": {
    "hidden": true
   },
   "outputs": [],
   "source": [
    "def NewtonMethod(f,Df,target,x0,max_iter,tol):\n",
    "    xn = x0\n",
    "    for n in range(0,max_iter):\n",
    "        fxn = f(xn)-target\n",
    "        if abs(fxn) < tol:\n",
    "            print('Found solution after',n,'iterations.')\n",
    "            return xn\n",
    "        Dfxn = Df(xn)\n",
    "        if Dfxn == 0:\n",
    "            print('Zero derivative. No solution found.')\n",
    "            return None\n",
    "        xn = xn - fxn/Dfxn\n",
    "    print('Exceeded maximum iterations. No solution found.')\n",
    "    return None"
   ]
  },
  {
   "cell_type": "code",
   "execution_count": 11,
   "metadata": {
    "hidden": true,
    "scrolled": true
   },
   "outputs": [
    {
     "name": "stdout",
     "output_type": "stream",
     "text": [
      "Found solution after 2 iterations.\n"
     ]
    },
    {
     "data": {
      "text/plain": [
       "0.6925759283015839"
      ]
     },
     "execution_count": 11,
     "metadata": {},
     "output_type": "execute_result"
    }
   ],
   "source": [
    "NewtonMethod(EuropeanPut,vega,2,0.5,100,0.001)"
   ]
  },
  {
   "cell_type": "markdown",
   "metadata": {
    "heading_collapsed": true
   },
   "source": [
    "## implied volatility for American put option with Crank-Nicolson"
   ]
  },
  {
   "cell_type": "code",
   "execution_count": 2,
   "metadata": {
    "hidden": true
   },
   "outputs": [],
   "source": [
    "def TDMA(a,b,c,d):\n",
    "    n = len(d)\n",
    "    x = [0 for _ in range(n)]\n",
    "    \n",
    "    c[0] = c[0]/b[0]\n",
    "    d[0] = d[0]/b[0]\n",
    "    \n",
    "    for i in range(1,n-1):\n",
    "        temp = b[i] -a[i]*c[i-1]\n",
    "        c[i] = c[i]/temp\n",
    "        d[i] = (d[i]-a[i]*d[i-1])/temp\n",
    "        \n",
    "    d[n-1]=(d[n-1]-a[n-1]*d[n-2])/(b[n-1]-a[n-1]*c[n-2])\n",
    "    \n",
    "    x[-1] = d[-1]\n",
    "    for i in range(n-2,-1,-1):\n",
    "        x[i] = d[i]-c[i]*x[i+1]\n",
    "    \n",
    "    return x "
   ]
  },
  {
   "cell_type": "code",
   "execution_count": 17,
   "metadata": {
    "hidden": true
   },
   "outputs": [],
   "source": [
    "# 输入sigma 输出一条期权价格关于股票价格的曲线\n",
    "def CN_AmericanPut(T=1,r=0.02,sigma=0.68,K=9,N=100,M=200,U=100,L=0):\n",
    "    X_max = np.log(U) + (r-0.5*sigma**2)*T\n",
    "    X_min = np.log(L+0.01) + (r-0.5*sigma**2)*T\n",
    "    t0 = 0.5*sigma**2*T\n",
    "    delta_t = t0/N\n",
    "    delta_y = (X_max-X_min)/M\n",
    "    lamda = delta_t/(delta_y**2)\n",
    "    \n",
    "    S = [np.exp(i*delta_y+X_min-(r-0.5*sigma**2)*T) for i in range(0,M+1,1)]\n",
    "    time = [delta_t*i for i in range(0,N+1,1)]\n",
    "    X = np.array([i*delta_y+X_min for i in range(0,M+1,1)])\n",
    "    u = np.array([math.exp(-r*T)*max(0,K-math.exp(i*delta_y+X_min)) for i in range(0,M+1,1)])\n",
    "    print(S)\n",
    "    \n",
    "    A = [-lamda for _ in range(1,M,1)]\n",
    "    B = [2+2*lamda for _ in range(1,M,1)]\n",
    "    C = [-lamda for _ in range(1,M,1)]\n",
    "\n",
    "    A[0] = 0\n",
    "    C[-1] = 0\n",
    "\n",
    "    for n in range(N):\n",
    "        \n",
    "        D = [lamda*u[i-1]+(2-2*lamda)*u[i]+lamda*u[i+1] for i in range(1,len(u)-1)]\n",
    "        D[0] += lamda*K*np.exp(-r*(T-2*n*delta_t/(sigma**2)))\n",
    "            \n",
    "        u[1:-1] = TDMA(A[:],B[:],C[:],list(D))\n",
    "        u[0] = K*np.exp(-r*(T-2*n*delta_t/(sigma**2)))\n",
    "        u[-1] = 0\n",
    "        \n",
    "        u0 = np.exp(-r*(T-2*n*delta_t/(sigma**2)))*np.maximum(0,K-np.exp(X-(2*r/(sigma**2)-1)*n*delta_t))\n",
    "        u = np.maximum(u,u0)\n",
    "        \n",
    "\n",
    "    u = u*np.exp(r*(T-2*t0/(sigma**2)))\n",
    "    \n",
    "\n",
    "    return u,S\n",
    "    "
   ]
  },
  {
   "cell_type": "code",
   "execution_count": 13,
   "metadata": {
    "hidden": true
   },
   "outputs": [],
   "source": [
    "# 输入sigma和股票价格 输出期权价格\n",
    "def encap_CN_AmericanPut(sigma,stock_price):\n",
    "#     crank-nicolson scheme\n",
    "    u,S = CN_AmericanPut(T=1,r=0.02,sigma=sigma,K=9,N=100,M=200,U=100,L=0)\n",
    "    \n",
    "#     implicit scheme\n",
    "#     [u,S,_,_] = AmericanPut(T=1,r=0.02,sigma=sigma,K=9,N=100,M=200,R=100)\n",
    "    \n",
    "    i = (np.abs(np.array(S)-stock_price)).argmin()\n",
    "    return u[i]"
   ]
  },
  {
   "cell_type": "code",
   "execution_count": 14,
   "metadata": {
    "hidden": true
   },
   "outputs": [],
   "source": [
    "def secant(func,target,x1,x2,stock_price,tol):\n",
    "    # x1:close to 0     \n",
    "    # x2:European option implied volatility\n",
    "    \n",
    "    f1 = func(x1,stock_price)-target\n",
    "    f2 = func(x2,stock_price)-target\n",
    "    \n",
    "    if f1*f2 > 0:\n",
    "        raise RuntimeError('reset x1,x2 please')\n",
    "\n",
    "    while True:\n",
    "        f1 = func(x1,stock_price)-target\n",
    "        f2 = func(x2,stock_price)-target\n",
    "        \n",
    "        x = x1-f1*(x1-x2)/(f1-f2)\n",
    "        fx = func(x,stock_price)-target\n",
    "        print(x)\n",
    "        \n",
    "        if f1*fx<0:\n",
    "            x1 = x1\n",
    "            x2 = x\n",
    "        elif f2*fx<0:\n",
    "            x1 = x\n",
    "            x2 = x2\n",
    "        else:\n",
    "            x2 = x\n",
    "            x1 = x\n",
    "        if abs(fx)<=tol:\n",
    "            break\n",
    "    return x"
   ]
  },
  {
   "cell_type": "code",
   "execution_count": 15,
   "metadata": {
    "hidden": true,
    "scrolled": false
   },
   "outputs": [
    {
     "name": "stdout",
     "output_type": "stream",
     "text": [
      "Found solution after 2 iterations.\n",
      "0.6863302823662174\n"
     ]
    },
    {
     "data": {
      "text/plain": [
       "0.6863302823662174"
      ]
     },
     "execution_count": 15,
     "metadata": {},
     "output_type": "execute_result"
    }
   ],
   "source": [
    "upperBoundary = NewtonMethod(EuropeanPut,vega,2,0.5,100,0.001)\n",
    "stock_price = 10\n",
    "option_price = 2\n",
    "tol = 0.1\n",
    "x1 = 0.000001\n",
    "x2 = upperBoundary\n",
    "secant(encap_CN_AmericanPut,option_price,x1,x2,stock_price,tol)"
   ]
  },
  {
   "cell_type": "markdown",
   "metadata": {},
   "source": [
    "## implicit scheme"
   ]
  },
  {
   "cell_type": "code",
   "execution_count": null,
   "metadata": {},
   "outputs": [],
   "source": [
    "def AmericanPut(T=1,r=0.02,sigma=0.666,K=9,N=100,M=200,R=100):\n",
    "    delta_t = T/N\n",
    "    delta_y = R/M\n",
    "    time = [delta_t*i for i in range(0,N+1,1)]\n",
    "    u = np.array([max(0,K-i*delta_y) for i in range(0,M+1,1)])\n",
    "    u0 = u.copy()\n",
    "    S0 = np.array([i*delta_y for i in range(0,M+1,1)])\n",
    "    boundary = [K]\n",
    "\n",
    "    A = [-0.5*delta_t*(sigma*i)**2 for i in range(1,M,1)]\n",
    "    B = [1+delta_t*(r+r*i+(i*sigma)**2) for i in range(1,M,1)]\n",
    "    C = [delta_t*(-r*i-0.5*(i*sigma)**2) for i in range(1,M,1)]\n",
    "    \n",
    "    A[0] = 0\n",
    "    C[-1] = 0\n",
    "\n",
    "    \n",
    "    for n in range(N):\n",
    "        D = u[1:-1].copy()\n",
    "        D[0] -= -0.5*delta_t*sigma**2*K\n",
    "        u[1:-1] = TDMA(A[:],B[:],C[:],list(D))\n",
    "        u[0] = np.exp(-r*(N-n)*delta_t)*K\n",
    "        u[-1] = 0\n",
    "        u = np.maximum(u,u0)\n",
    "        boundary.append(S0[((u-u0)!=0).argmax(axis=0)-1])\n",
    "        \n",
    "        \n",
    "    return [u,S0,boundary,time]"
   ]
  },
  {
   "cell_type": "code",
   "execution_count": null,
   "metadata": {},
   "outputs": [],
   "source": [
    "[u,S0,boundary,time] = AmericanPut()\n",
    "stock_price = 10\n",
    "u[(np.abs(np.array(S0)-stock_price)).argmin()]"
   ]
  },
  {
   "cell_type": "code",
   "execution_count": null,
   "metadata": {
    "scrolled": true
   },
   "outputs": [],
   "source": [
    "plt.xlabel(\"price of underlying asset\")\n",
    "plt.ylabel(\"price of option\")\n",
    "plt.title(\"American Put Price vs. Underlying Asset Price\")\n",
    "_ = plt.plot(S0,u)"
   ]
  }
 ],
 "metadata": {
  "kernelspec": {
   "display_name": "Python 3",
   "language": "python",
   "name": "python3"
  },
  "language_info": {
   "codemirror_mode": {
    "name": "ipython",
    "version": 3
   },
   "file_extension": ".py",
   "mimetype": "text/x-python",
   "name": "python",
   "nbconvert_exporter": "python",
   "pygments_lexer": "ipython3",
   "version": "3.7.3"
  },
  "varInspector": {
   "cols": {
    "lenName": 16,
    "lenType": 16,
    "lenVar": 40
   },
   "kernels_config": {
    "python": {
     "delete_cmd_postfix": "",
     "delete_cmd_prefix": "del ",
     "library": "var_list.py",
     "varRefreshCmd": "print(var_dic_list())"
    },
    "r": {
     "delete_cmd_postfix": ") ",
     "delete_cmd_prefix": "rm(",
     "library": "var_list.r",
     "varRefreshCmd": "cat(var_dic_list()) "
    }
   },
   "types_to_exclude": [
    "module",
    "function",
    "builtin_function_or_method",
    "instance",
    "_Feature"
   ],
   "window_display": false
  }
 },
 "nbformat": 4,
 "nbformat_minor": 2
}
